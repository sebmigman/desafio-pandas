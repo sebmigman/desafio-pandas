{
 "cells": [
  {
   "cell_type": "markdown",
   "metadata": {},
   "source": [
    "# Imports"
   ]
  },
  {
   "cell_type": "code",
   "execution_count": 2,
   "metadata": {},
   "outputs": [],
   "source": [
    "import json\n",
    "import emoji\n",
    "import pandas as pd"
   ]
  },
  {
   "cell_type": "code",
   "execution_count": null,
   "metadata": {},
   "outputs": [],
   "source": []
  },
  {
   "cell_type": "markdown",
   "metadata": {},
   "source": [
    "# harcoded input variables.\n",
    "## to be replaced by kwargs* or argv, argc"
   ]
  },
  {
   "cell_type": "code",
   "execution_count": 3,
   "metadata": {},
   "outputs": [],
   "source": [
    "path = \"/Users/sebastian.pizarro/0code/0nexus/aa-dec/data/farmers-protest-tweets-2021-2-4.json\""
   ]
  },
  {
   "cell_type": "markdown",
   "metadata": {},
   "source": [
    "# Testing input file\n",
    "## a json per line, splitted by '\\n' within the file"
   ]
  },
  {
   "cell_type": "code",
   "execution_count": 4,
   "metadata": {},
   "outputs": [],
   "source": [
    "from pprint import pprint\n",
    "raw_data_list = []\n",
    "with open(path) as fp:\n",
    "    i = 0 \n",
    "    for line in fp.readlines():\n",
    "        line = line.strip()\n",
    "        raw_data = json.loads(line)\n",
    "        raw_data_list.append(raw_data)"
   ]
  },
  {
   "cell_type": "code",
   "execution_count": null,
   "metadata": {},
   "outputs": [],
   "source": []
  },
  {
   "cell_type": "code",
   "execution_count": 5,
   "metadata": {},
   "outputs": [],
   "source": [
    "def reload_df(raw_data_list):\n",
    "    return pd.DataFrame(raw_data_list)\n"
   ]
  },
  {
   "cell_type": "markdown",
   "metadata": {},
   "source": [
    "# Question defs"
   ]
  },
  {
   "cell_type": "code",
   "execution_count": 36,
   "metadata": {},
   "outputs": [
    {
     "ename": "KeyboardInterrupt",
     "evalue": "",
     "output_type": "error",
     "traceback": [
      "\u001b[0;31m---------------------------------------------------------------------------\u001b[0m",
      "\u001b[0;31mKeyboardInterrupt\u001b[0m                         Traceback (most recent call last)",
      "Cell \u001b[0;32mIn[36], line 108\u001b[0m\n\u001b[1;32m    102\u001b[0m     pprint(df)\n\u001b[1;32m    107\u001b[0m df\u001b[39m=\u001b[39mreload_df(raw_data_list)\n\u001b[0;32m--> 108\u001b[0m q5(df)\n",
      "Cell \u001b[0;32mIn[36], line 87\u001b[0m, in \u001b[0;36mq5\u001b[0;34m(df)\u001b[0m\n\u001b[1;32m     83\u001b[0m     \u001b[39mreturn\u001b[39;00m d\n\u001b[1;32m     86\u001b[0m \u001b[39m#from pprint import pprint\u001b[39;00m\n\u001b[0;32m---> 87\u001b[0m df[\u001b[39m\"\u001b[39m\u001b[39mhas_emoji\u001b[39m\u001b[39m\"\u001b[39m] \u001b[39m=\u001b[39m df[\u001b[39m\"\u001b[39;49m\u001b[39mcontent\u001b[39;49m\u001b[39m\"\u001b[39;49m]\u001b[39m.\u001b[39;49mapply(\u001b[39mlambda\u001b[39;49;00m tweet: has_emoji(tweet))\n",
      "File \u001b[0;32m~/0code/.venv/lib/python3.9/site-packages/pandas/core/series.py:4630\u001b[0m, in \u001b[0;36mSeries.apply\u001b[0;34m(self, func, convert_dtype, args, **kwargs)\u001b[0m\n\u001b[1;32m   4520\u001b[0m \u001b[39mdef\u001b[39;00m \u001b[39mapply\u001b[39m(\n\u001b[1;32m   4521\u001b[0m     \u001b[39mself\u001b[39m,\n\u001b[1;32m   4522\u001b[0m     func: AggFuncType,\n\u001b[0;32m   (...)\u001b[0m\n\u001b[1;32m   4525\u001b[0m     \u001b[39m*\u001b[39m\u001b[39m*\u001b[39mkwargs,\n\u001b[1;32m   4526\u001b[0m ) \u001b[39m-\u001b[39m\u001b[39m>\u001b[39m DataFrame \u001b[39m|\u001b[39m Series:\n\u001b[1;32m   4527\u001b[0m \u001b[39m    \u001b[39m\u001b[39m\"\"\"\u001b[39;00m\n\u001b[1;32m   4528\u001b[0m \u001b[39m    Invoke function on values of Series.\u001b[39;00m\n\u001b[1;32m   4529\u001b[0m \n\u001b[0;32m   (...)\u001b[0m\n\u001b[1;32m   4628\u001b[0m \u001b[39m    dtype: float64\u001b[39;00m\n\u001b[1;32m   4629\u001b[0m \u001b[39m    \"\"\"\u001b[39;00m\n\u001b[0;32m-> 4630\u001b[0m     \u001b[39mreturn\u001b[39;00m SeriesApply(\u001b[39mself\u001b[39;49m, func, convert_dtype, args, kwargs)\u001b[39m.\u001b[39;49mapply()\n",
      "File \u001b[0;32m~/0code/.venv/lib/python3.9/site-packages/pandas/core/apply.py:1025\u001b[0m, in \u001b[0;36mSeriesApply.apply\u001b[0;34m(self)\u001b[0m\n\u001b[1;32m   1022\u001b[0m     \u001b[39mreturn\u001b[39;00m \u001b[39mself\u001b[39m\u001b[39m.\u001b[39mapply_str()\n\u001b[1;32m   1024\u001b[0m \u001b[39m# self.f is Callable\u001b[39;00m\n\u001b[0;32m-> 1025\u001b[0m \u001b[39mreturn\u001b[39;00m \u001b[39mself\u001b[39;49m\u001b[39m.\u001b[39;49mapply_standard()\n",
      "File \u001b[0;32m~/0code/.venv/lib/python3.9/site-packages/pandas/core/apply.py:1076\u001b[0m, in \u001b[0;36mSeriesApply.apply_standard\u001b[0;34m(self)\u001b[0m\n\u001b[1;32m   1074\u001b[0m     \u001b[39melse\u001b[39;00m:\n\u001b[1;32m   1075\u001b[0m         values \u001b[39m=\u001b[39m obj\u001b[39m.\u001b[39mastype(\u001b[39mobject\u001b[39m)\u001b[39m.\u001b[39m_values\n\u001b[0;32m-> 1076\u001b[0m         mapped \u001b[39m=\u001b[39m lib\u001b[39m.\u001b[39;49mmap_infer(\n\u001b[1;32m   1077\u001b[0m             values,\n\u001b[1;32m   1078\u001b[0m             f,\n\u001b[1;32m   1079\u001b[0m             convert\u001b[39m=\u001b[39;49m\u001b[39mself\u001b[39;49m\u001b[39m.\u001b[39;49mconvert_dtype,\n\u001b[1;32m   1080\u001b[0m         )\n\u001b[1;32m   1082\u001b[0m \u001b[39mif\u001b[39;00m \u001b[39mlen\u001b[39m(mapped) \u001b[39mand\u001b[39;00m \u001b[39misinstance\u001b[39m(mapped[\u001b[39m0\u001b[39m], ABCSeries):\n\u001b[1;32m   1083\u001b[0m     \u001b[39m# GH#43986 Need to do list(mapped) in order to get treated as nested\u001b[39;00m\n\u001b[1;32m   1084\u001b[0m     \u001b[39m#  See also GH#25959 regarding EA support\u001b[39;00m\n\u001b[1;32m   1085\u001b[0m     \u001b[39mreturn\u001b[39;00m obj\u001b[39m.\u001b[39m_constructor_expanddim(\u001b[39mlist\u001b[39m(mapped), index\u001b[39m=\u001b[39mobj\u001b[39m.\u001b[39mindex)\n",
      "File \u001b[0;32m~/0code/.venv/lib/python3.9/site-packages/pandas/_libs/lib.pyx:2834\u001b[0m, in \u001b[0;36mpandas._libs.lib.map_infer\u001b[0;34m()\u001b[0m\n",
      "Cell \u001b[0;32mIn[36], line 87\u001b[0m, in \u001b[0;36mq5.<locals>.<lambda>\u001b[0;34m(tweet)\u001b[0m\n\u001b[1;32m     83\u001b[0m     \u001b[39mreturn\u001b[39;00m d\n\u001b[1;32m     86\u001b[0m \u001b[39m#from pprint import pprint\u001b[39;00m\n\u001b[0;32m---> 87\u001b[0m df[\u001b[39m\"\u001b[39m\u001b[39mhas_emoji\u001b[39m\u001b[39m\"\u001b[39m] \u001b[39m=\u001b[39m df[\u001b[39m\"\u001b[39m\u001b[39mcontent\u001b[39m\u001b[39m\"\u001b[39m]\u001b[39m.\u001b[39mapply(\u001b[39mlambda\u001b[39;00m tweet: has_emoji(tweet))\n",
      "Cell \u001b[0;32mIn[36], line 72\u001b[0m, in \u001b[0;36mq5.<locals>.has_emoji\u001b[0;34m(text)\u001b[0m\n\u001b[1;32m     62\u001b[0m i\u001b[39m=\u001b[39m\u001b[39m0\u001b[39m\n\u001b[1;32m     63\u001b[0m \u001b[39m\u001b[39m\u001b[39m\"\"\"\u001b[39;00m\n\u001b[1;32m     64\u001b[0m \u001b[39mCheck if a string contains an emoji.\u001b[39;00m\n\u001b[1;32m     65\u001b[0m \n\u001b[0;32m   (...)\u001b[0m\n\u001b[1;32m     70\u001b[0m \u001b[39m    bool: True if the input text contains an emoji, False otherwise.\u001b[39;00m\n\u001b[1;32m     71\u001b[0m \u001b[39m\"\"\"\u001b[39;00m\n\u001b[0;32m---> 72\u001b[0m response \u001b[39m=\u001b[39m \u001b[39mlist\u001b[39;49m(emoji\u001b[39m.\u001b[39;49manalyze(text))\n\u001b[1;32m     73\u001b[0m d \u001b[39m=\u001b[39m []\n\u001b[1;32m     74\u001b[0m \u001b[39mfor\u001b[39;00m e \u001b[39min\u001b[39;00m response:\n",
      "File \u001b[0;32m~/0code/.venv/lib/python3.9/site-packages/emoji/tokenizer.py:269\u001b[0m, in \u001b[0;36mfilter_tokens\u001b[0;34m(matches, emoji_only, join_emoji)\u001b[0m\n\u001b[1;32m    267\u001b[0m pre_previous_is_emoji \u001b[39m=\u001b[39m \u001b[39mFalse\u001b[39;00m\n\u001b[1;32m    268\u001b[0m accumulator \u001b[39m=\u001b[39m []\n\u001b[0;32m--> 269\u001b[0m \u001b[39mfor\u001b[39;00m token \u001b[39min\u001b[39;00m matches:\n\u001b[1;32m    270\u001b[0m     pre_previous_is_emoji \u001b[39m=\u001b[39m previous_is_emoji\n\u001b[1;32m    271\u001b[0m     \u001b[39mif\u001b[39;00m previous_is_emoji \u001b[39mand\u001b[39;00m token\u001b[39m.\u001b[39mvalue \u001b[39m==\u001b[39m _ZWJ:\n",
      "\u001b[0;31mKeyboardInterrupt\u001b[0m: "
     ]
    }
   ],
   "source": [
    "# 1. Los top 10 tweets más retweeted\n",
    "# id, sum(retweenCount) order by 2 desc limit K\n",
    "\n",
    "def q1(df):\n",
    "    from pprint import pprint\n",
    "    df = df[['id','retweetCount']].reindex()\n",
    "    df=df.groupby('id')['retweetCount'].agg(MySum='sum')\n",
    "    df = df.sort_values(by='MySum', ascending=False)\n",
    "    pprint(df)\n",
    "    df.info()\n",
    "    \n",
    "    \n",
    "# 2. Los top 10 users en función a la cantidad de tweets que emitieron.\n",
    "# user, count(id) order by 2 desc limit K\n",
    "def q2(df):\n",
    "    from pprint import pprint\n",
    "    df = df[['user','id']]\n",
    "    df['username'] = df['user'].apply(lambda x : x['username'])\n",
    "    df = df[['username','id']].reindex()\n",
    "    df = df.groupby('username')['id'].agg(MyCount='count')\n",
    "    df = df.sort_values(by='MyCount', ascending=False)\n",
    "    pprint(df)\n",
    "\n",
    "    # 3. Los top 10 días donde hay más tweets. \n",
    "# date, count(id) order by 2 desc limit K\n",
    "def q3(df):\n",
    "    from pprint import pprint\n",
    "    df = df[df[\"date\"]!=\"\"]\n",
    "    df = df[df[\"date\"].notnull()]\n",
    "    df['date_object'] = pd.to_datetime(df['date'], format=\"%Y-%m-%dT%H:%M:%S+00:00\")\n",
    "    df['date_day'] =df['date_object'].apply( lambda dt : dt.strftime(\"%Y-%m-%d\"))\n",
    "    df = df [['date_day','id']]\n",
    "    print(df.groupby('date_day').count())\n",
    "\n",
    "# Los top 10 hashtags más usados.\n",
    "def q4():\n",
    "    def get_hashtags_array(text):\n",
    "        \"\"\"\n",
    "        Check if a string contains an emoji.\n",
    "\n",
    "        Args:\n",
    "            text (str): The input text to check for emojis.\n",
    "\n",
    "        Returns:\n",
    "            bool: True if the input text contains an emoji, False otherwise.\n",
    "        \"\"\"\n",
    "        words = text.split(' ')\n",
    "        words = [word for word in words if words.contains(\"#\")]\n",
    "        words = words.apply(lambda w : w.strip())\n",
    "        #return any(char in emoji.UNICODE_EMOJI for char in text)\n",
    "        return words\n",
    "    from pprint import pprint\n",
    "    df[\"hashtags\"] = df[\"content\"].apply(lambda tweet: get_hashtags_array(tweet))\n",
    "    df.info()\n",
    "\n",
    "\n",
    "# 5. Los top 10 emojis más usados.\n",
    "## search for character hex value within LOWER_LIMIT and UPPER_LMIT\n",
    "## hex_value, count(*) order by 2 desc limit K\n",
    "def q5(df):\n",
    "    def has_emoji(text):\n",
    "        \"\"\"\n",
    "        Check if a string contains an emoji.\n",
    "\n",
    "        Args:\n",
    "            text (str): The input text to check for emojis.\n",
    "\n",
    "        Returns:\n",
    "            bool: True if the input text contains an emoji, False otherwise.\n",
    "        \"\"\"\n",
    "        response = list(emoji.analyze(text))\n",
    "        d = []\n",
    "        for e in response:\n",
    "            i=0\n",
    "            if e is None:\n",
    "                pass\n",
    "            d.append(({\"emoji\":e.value.emoji, \"count\": 1}))\n",
    "            i=i+1\n",
    "            if i > 10:\n",
    "                break\n",
    "        \n",
    "        #print(d)\n",
    "        return d\n",
    "\n",
    "\n",
    "    #from pprint import pprint\n",
    "    df[\"has_emoji\"] = df[\"content\"].apply(lambda tweet: has_emoji(tweet))\n",
    "    #df.info()\n",
    "\n",
    "\n",
    "# 6. Los top 10 users más influyentes en función de lo retweeted de sus tweets.\n",
    "## user, count(id) where retweeted_count > 0\n",
    "def q6(df):\n",
    "    from pprint import pprint\n",
    "    df = df.loc[df[\"retwee\"]]\n",
    "    df = df[['user','id']]\n",
    "\n",
    "    df['username'] = df['user'].apply(lambda x : x['username'])\n",
    "    df = df[['username','id']].reindex()\n",
    "    df = df.groupby('username')['id'].agg(MyCount='count')\n",
    "    df = df.sort_values(by='MyCount', ascending=False)\n",
    "    pprint(df)\n",
    "\n",
    "\n",
    "\n",
    "\n",
    "df=reload_df(raw_data_list)\n",
    "q5(df)\n"
   ]
  }
 ],
 "metadata": {
  "kernelspec": {
   "display_name": ".venv",
   "language": "python",
   "name": "python3"
  },
  "language_info": {
   "codemirror_mode": {
    "name": "ipython",
    "version": 3
   },
   "file_extension": ".py",
   "mimetype": "text/x-python",
   "name": "python",
   "nbconvert_exporter": "python",
   "pygments_lexer": "ipython3",
   "version": "3.9.6"
  },
  "orig_nbformat": 4
 },
 "nbformat": 4,
 "nbformat_minor": 2
}
